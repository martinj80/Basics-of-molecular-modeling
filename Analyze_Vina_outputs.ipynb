{
 "cells": [
  {
   "cell_type": "markdown",
   "metadata": {},
   "source": [
    "Updated to Vina 1.2.3  \n",
    "This script assumes the folder containing ligands (variable liglib) is in the path.\n",
    "\n",
    "Variables:\n",
    "liglib      folder containing ligands\n",
    "outputdir   folder containing docked *.pdbqt and *.out files"
   ]
  },
  {
   "cell_type": "code",
   "execution_count": null,
   "metadata": {
    "tags": []
   },
   "outputs": [],
   "source": [
    "import os, glob, pathlib, shutil\n",
    "from os.path import join, basename, splitext\n",
    "from pathlib import Path\n",
    "import pandas as pd\n",
    "from rdkit import Chem, RDLogger\n",
    "from rdkit.Chem import Draw\n",
    "import mols2grid\n",
    "\n",
    "lg = RDLogger.logger()\n",
    "lg.setLevel(RDLogger.CRITICAL)\n",
    "\n",
    "class VinaResults:\n",
    "    def __init__(self, outs, get_modes=5, n_analyze=0):\n",
    "        \"\"\"Class object for parsing all Vina 1.2.3 outputs and for storing the results\n",
    "        outs: list of filenames\n",
    "        get_modes: Number of modes to extract from the output files, e.g. 1 gets the first/best mode\n",
    "        n_analyze: Number of outputs to analyze (for debugging only)\n",
    "        \"\"\"\n",
    "        self.outs = outs\n",
    "        self.n_analyze = n_analyze\n",
    "        if self.n_analyze <= 0:\n",
    "            self.n_analyze = len(outs)\n",
    "        self.get_modes = get_modes\n",
    "        self.results = {\"Ligand\":[], \"Mode\":[],\n",
    "                     \"Affinity (Vina score)\":[],\n",
    "                     \"Distance from best mode (RMSD l.b.)\":[],\n",
    "                     \"Distance from best mode (RMSD u.b.)\":[]}\n",
    "        self.unsuccessfull = []\n",
    "            \n",
    "        self._analyze_outs()\n",
    "    \n",
    "    def _analyze_outs(self):\n",
    "        \"\"\"Runs on initialization.\n",
    "        Loops through all outputs and parses the results.\n",
    "        If necessary, analyzes only n_analyze output files.\n",
    "        \"\"\"\n",
    "        print(\"Analyzing {} outputs...\".format(self.n_analyze))\n",
    "        for i, out in enumerate(self.outs):\n",
    "            if i < int(self.n_analyze): # defines iteration through all files to be analyzed\n",
    "                # print(i, \"Analyzing: {}\".format(basename(out)))\n",
    "                self._parse_vina_out(out)\n",
    "        return\n",
    "                \n",
    "    def _parse_vina_out(self, out):\n",
    "        \"\"\"Parses one output file and saves the results in the results dictionary\n",
    "        \"\"\"\n",
    "        with open(out, \"r\") as fh:\n",
    "            lines = fh.readlines()\n",
    "        try:\n",
    "            start_line_index = lines.index(\"-----+------------+----------+----------\\n\")\n",
    "        except ValueError:\n",
    "            # print(\"{} did not finish or finished unsuccesfully.\".format(splitext(basename(out))[0]))\n",
    "            self.unsuccessfull.append(splitext(basename(out))[0])\n",
    "            return\n",
    "\n",
    "        best_mode_index = start_line_index + 1\n",
    "        curr_mode_index = best_mode_index\n",
    "        while int(curr_mode_index) < int(self.get_modes + best_mode_index): # defines iteration through defined number of modes (get_modes), starts at best mode (mode = 1)\n",
    "            try:\n",
    "                lines[curr_mode_index]\n",
    "            except IndexError:\n",
    "                print(f\"\\nFile {out} does not contain {self.get_modes} modes\")\n",
    "                last_mode = curr_mode_index - best_mode_index\n",
    "                print(f\"Last mode found is {last_mode}\")\n",
    "                # self.get_modes = curr_mode_index - best_mode_index\n",
    "                return\n",
    "            mode, affinity, dist_lb, dist_ub = lines[curr_mode_index].split()[:4]\n",
    "            self.results[\"Ligand\"].append(os.path.splitext(basename(out))[0])\n",
    "            self.results[\"Mode\"].append(mode)\n",
    "            self.results[\"Affinity (Vina score)\"].append(float(affinity))\n",
    "            self.results[\"Distance from best mode (RMSD l.b.)\"].append(dist_lb)\n",
    "            self.results[\"Distance from best mode (RMSD u.b.)\"].append(dist_ub)\n",
    "            curr_mode_index += 1\n",
    "        return\n",
    "    \n",
    "    def get_results(self):\n",
    "        \"\"\"Return results and unsuccesfull/unfinished ligands\n",
    "        \"\"\"\n",
    "        return self.results, self.unsuccessfull"
   ]
  },
  {
   "cell_type": "code",
   "execution_count": null,
   "metadata": {},
   "outputs": [],
   "source": [
    "#SDF file used to generate PDBQT ligands\n",
    "#TODO: could be loaded using meeko: https://pypi.org/project/meeko/\n",
    "docked = Chem.SDMolSupplier(\"ZINC15_fda_Ro5_acids_7.4.sdf\")"
   ]
  },
  {
   "cell_type": "code",
   "execution_count": null,
   "metadata": {},
   "outputs": [],
   "source": [
    "#Check if all files in SDF were converted to PDBQT\n",
    "print(len(docked), len(glob.glob('Ligands/*.pdbqt')))"
   ]
  },
  {
   "cell_type": "code",
   "execution_count": null,
   "metadata": {},
   "outputs": [],
   "source": [
    "#Find SDF property containing ligand names (zinc_id, id, name...)\n",
    "docked[1].GetPropsAsDict()"
   ]
  },
  {
   "cell_type": "code",
   "execution_count": null,
   "metadata": {},
   "outputs": [],
   "source": [
    "#Create dictionary with names and molecules\n",
    "mols_dict = {\"name\":[], \"RDMol\":[]}\n",
    "for mol in docked:\n",
    "    if mol is None:\n",
    "        continue\n",
    "    mols_dict['name'].append(mol.GetProp(\"zinc_id\"))  #use the name property\n",
    "    mols_dict[\"RDMol\"].append(mol)"
   ]
  },
  {
   "cell_type": "code",
   "execution_count": null,
   "metadata": {},
   "outputs": [],
   "source": [
    "df_docked = pd.DataFrame(mols_dict)\n",
    "mols2grid.display(df_docked, mol_col=\"RDMol\")"
   ]
  },
  {
   "cell_type": "code",
   "execution_count": null,
   "metadata": {
    "scrolled": true,
    "tags": []
   },
   "outputs": [],
   "source": [
    "# Define variables:\n",
    "liglib = \"Ligands\" \n",
    "outputdir = \"Ligands/docked\"\n",
    "\n",
    "current_directory = os.getcwd()\n",
    "print(\"Running in:\",current_directory)\n",
    "\n",
    "path_to_ligands = pathlib.Path(current_directory, liglib)\n",
    "path_to_outputs = pathlib.Path(current_directory, outputdir)\n",
    "inputs = glob.glob(join(path_to_ligands, \"*.pdbqt\"))\n",
    "outs = sorted(glob.glob(join(path_to_outputs,\"*.out\")))\n",
    "\n",
    "print(\"Number of input files (ligands *.pdbqt) found: {0}\\\n",
    "\\nNumber of output files (*.out) found: {1}\\\n",
    "\\n{2} not docked yet.\".format(len(inputs), len(outs), len(inputs) - len(outs)))\n",
    "\n",
    "results, unsuccessfull = VinaResults(outs, get_modes=5).get_results()\n",
    "\n",
    "print(\"{1} unfinished or unsuccessfull runs found.\".format(results[\"Ligand\"], len(unsuccessfull)))"
   ]
  },
  {
   "cell_type": "code",
   "execution_count": null,
   "metadata": {},
   "outputs": [],
   "source": [
    "# Load dictionary as a Pandas dataframe\n",
    "df_results = pd.DataFrame.from_dict(results)\n",
    "df_results"
   ]
  },
  {
   "cell_type": "code",
   "execution_count": null,
   "metadata": {},
   "outputs": [],
   "source": [
    "# Sort the dataframe by decreasing Affinity\n",
    "df_sorted = df_results.sort_values(by=\"Affinity (Vina score)\", ascending=True)\n",
    "# positive = len(df_sorted)\n",
    "# df_sorted = df_sorted[df_sorted[\"Affinity (Vina score)\"] < 0]\n",
    "# positive -= len(df_sorted)\n",
    "# print(positive)\n",
    "df_sorted.head()"
   ]
  },
  {
   "cell_type": "code",
   "execution_count": null,
   "metadata": {},
   "outputs": [],
   "source": [
    "df_sorted.hist(bins=50)"
   ]
  },
  {
   "cell_type": "code",
   "execution_count": null,
   "metadata": {},
   "outputs": [],
   "source": [
    "# Export all results to csv\n",
    "csv_name1 = \"_vina_all_analyzed_poses.csv\"\n",
    "df_sorted.to_csv(csv_name1, index_label=\"index\", sep=';')\n",
    "if os.path.isfile(csv_name1):\n",
    "    print(\"File copied\")"
   ]
  },
  {
   "cell_type": "code",
   "execution_count": null,
   "metadata": {},
   "outputs": [],
   "source": [
    "# Define 10% best ligands (of all docked pdbqt files) and create a new DataFrame with those ligands\n",
    "ten_percent_best = len(df_docked.index)//10\n",
    "\n",
    "df_best = df_sorted.drop_duplicates(subset=\"Ligand\").head(ten_percent_best)\n",
    "df_best"
   ]
  },
  {
   "cell_type": "code",
   "execution_count": null,
   "metadata": {},
   "outputs": [],
   "source": [
    "df_best.hist()"
   ]
  },
  {
   "cell_type": "code",
   "execution_count": null,
   "metadata": {},
   "outputs": [],
   "source": [
    "df = pd.merge(df_best.groupby(\"Ligand\").agg(min), df_docked.set_index(\"name\"),\n",
    "              left_index=True, right_index=True).sort_values(\"Affinity (Vina score)\")\n",
    "df"
   ]
  },
  {
   "cell_type": "code",
   "execution_count": null,
   "metadata": {},
   "outputs": [],
   "source": [
    "mols2grid.display(df.reset_index(),\n",
    "                  mol_col=\"RDMol\",\n",
    "                  subset=[\"mols2grid-id\",\"img\",\"index\",\"Affinity (Vina score)\"]\n",
    "                  # tooltip=[\"Affinity (Vina score)\"]\n",
    "                 )"
   ]
  },
  {
   "cell_type": "code",
   "execution_count": null,
   "metadata": {},
   "outputs": [],
   "source": [
    "# Export best results to csv\n",
    "csv_name2 = \"_vina_top10_of_poses.csv\"\n",
    "df_best.to_csv(csv_name2, index_label=\"index\", sep=';')\n",
    "if os.path.isfile(csv_name2):\n",
    "    print(\"File copied\")\n"
   ]
  },
  {
   "cell_type": "code",
   "execution_count": null,
   "outputs": [],
   "source": [
    "# Create folder to copy selected (best) ligands\n",
    "top_directory = Path(\"Ligands_top10\")\n",
    "try:\n",
    "    os.mkdir(top_directory)\n",
    "except FileExistsError:\n",
    "    shutil.rmtree(top_directory)\n",
    "    print(\"\"\"Folder {} already exists.\\nRemoving and creating new...\"\"\".format(top_directory))\n",
    "    os.mkdir(top_directory)\n",
    "\n",
    "print(\"Folder {} created.\".format(top_directory))\n",
    "print(\"Copying original PDBQT files of top 10% ligands...\")\n",
    "for ligand in df_best[\"Ligand\"].unique():\n",
    "    name = os.path.splitext(ligand)[0]+\".pdbqt\"\n",
    "    out = os.path.splitext(ligand)[0]+\"_out.pdbqt\"\n",
    "    shutil.copyfile(Path(liglib,name),Path(top_directory,name)) # copy original PDBQT files of selected (best) ligands to a new directory\n",
    "    shutil.copyfile(Path(liglib,\"docked\",out),Path(top_directory,out)) # copy OUT PDBQT files of selected (best) ligands to a new directory\n",
    "print(\"Finished copying.\")\n"
   ],
   "metadata": {
    "collapsed": false
   }
  }
 ],
 "metadata": {
  "interpreter": {
   "hash": "9b1639524277d1bc0da67bad19b160dec57f08f05cceda8dc47b0cb5a74e9b80"
  },
  "kernelspec": {
   "display_name": "Python 3 (ipykernel)",
   "language": "python",
   "name": "python3"
  },
  "language_info": {
   "codemirror_mode": {
    "name": "ipython",
    "version": 3
   },
   "file_extension": ".py",
   "mimetype": "text/x-python",
   "name": "python",
   "nbconvert_exporter": "python",
   "pygments_lexer": "ipython3",
   "version": "3.10.6"
  },
  "widgets": {
   "application/vnd.jupyter.widget-state+json": {
    "state": {
     "3295b1fec2ca40569540acb00ca4104e": {
      "model_module": "@jupyter-widgets/base",
      "model_module_version": "1.2.0",
      "model_name": "LayoutModel",
      "state": {}
     },
     "45d1de2b20154a22a20e52ae13e6c1c3": {
      "model_module": "@jupyter-widgets/base",
      "model_module_version": "1.2.0",
      "model_name": "LayoutModel",
      "state": {}
     },
     "65027cf9e2484fd4ab04ccaf4574c4cd": {
      "model_module": "@jupyter-widgets/base",
      "model_module_version": "1.2.0",
      "model_name": "LayoutModel",
      "state": {}
     }
    },
    "version_major": 2,
    "version_minor": 0
   }
  }
 },
 "nbformat": 4,
 "nbformat_minor": 4
}
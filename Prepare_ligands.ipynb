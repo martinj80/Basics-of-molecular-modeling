{
 "cells": [
  {
   "cell_type": "code",
   "execution_count": null,
   "id": "9c3961d6-2ec3-4b6a-b01e-1ca50d45ff97",
   "metadata": {
    "tags": [],
    "pycharm": {
     "name": "#%%\n"
    }
   },
   "outputs": [],
   "source": [
    "from rdkit import Chem\n",
    "from rdkit.Chem import PandasTools\n",
    "from rdkit.Chem.Descriptors import MolWt, MolLogP, TPSA, NumRotatableBonds, NumHDonors, NumHAcceptors\n",
    "from rdkit import RDLogger\n",
    "import mols2grid\n",
    "\n",
    "PandasTools.RenderImagesInAllDataFrames(images=True)\n",
    "\n",
    "lg = RDLogger.logger()\n",
    "lg.setLevel(RDLogger.CRITICAL)\n",
    "\n",
    "def contains_vina_unsupported_atoms(mol):\n",
    "    atoms = mol.GetAtoms()\n",
    "    for at in atoms:\n",
    "        n = at.GetAtomicNum()\n",
    "        # https://github.com/ccsb-scripps/AutoDock-Vina/blob/6af928b9d5f772d26f7f02f7f219e1ea7d97ed05/src/lib/atom_constants.h\n",
    "        if n not in [1,6,7,8,15,16,9,17,35,53,14,85]: #H,C,N,O,P,S,F,Cl,Br,I,Si,At \n",
    "            return True\n",
    "    return False"
   ]
  },
  {
   "cell_type": "markdown",
   "id": "da5101d6-9e01-4312-863c-f1c9fa4cb167",
   "metadata": {
    "tags": [],
    "pycharm": {
     "name": "#%% md\n"
    }
   },
   "source": [
    "# Load downloaded ZINC *.sdf file"
   ]
  },
  {
   "cell_type": "code",
   "execution_count": null,
   "id": "3cd6288a-286a-4fb4-8fee-99becc9863b2",
   "metadata": {
    "pycharm": {
     "name": "#%%\n"
    }
   },
   "outputs": [],
   "source": [
    "df = PandasTools.LoadSDF(\"ZINC15_fda.sdf\", embedProps=True, removeHs=False)"
   ]
  },
  {
   "cell_type": "code",
   "execution_count": null,
   "id": "4e3a5e6b-5d03-43fd-b6ea-46f18ca39a8a",
   "metadata": {
    "tags": [],
    "pycharm": {
     "name": "#%%\n"
    }
   },
   "outputs": [],
   "source": [
    "mols2grid.display(df, mol_col='ROMol')"
   ]
  },
  {
   "cell_type": "code",
   "execution_count": null,
   "id": "4f6b1d97-9416-4c64-ade9-8f19d5f2fb21",
   "metadata": {
    "pycharm": {
     "name": "#%%\n"
    }
   },
   "outputs": [],
   "source": [
    "descs       = [ MolWt,  MolLogP,  NumHDonors,  NumHAcceptors,  NumRotatableBonds,  TPSA]\n",
    "descs_names = [\"MolWt\",\"MolLogP\",\"NumHDonors\",\"NumHAcceptors\",\"NumRotatableBonds\",\"TPSA\"]\n",
    "\n",
    "for desc, desc_name in zip(descs, descs_names):\n",
    "    df[desc_name] = df[\"ROMol\"].apply(desc)\n",
    "df = df.sort_values(by=\"MolWt\")"
   ]
  },
  {
   "cell_type": "code",
   "execution_count": null,
   "id": "3a2b07b2-84e4-4b39-954c-6319e16c9dcb",
   "metadata": {
    "pycharm": {
     "name": "#%%\n"
    }
   },
   "outputs": [],
   "source": [
    "#Filter compounds, modified Ro5\n",
    "df = df[(df[\"MolWt\"] > 150)]\n",
    "df = df[(df[\"MolWt\"] <= 500)]\n",
    "df = df[(df[\"MolLogP\"] <= 5)]\n",
    "df = df[(df[\"NumHAcceptors\"] <= 10)]\n",
    "df = df[(df[\"NumHDonors\"] <= 5)]\n",
    "\n",
    "df = df[(df[\"NumRotatableBonds\"] < 10)]\n",
    "\n",
    "df = df[~df[\"ROMol\"].apply(contains_vina_unsupported_atoms)]\n",
    "print(len(df))"
   ]
  },
  {
   "cell_type": "code",
   "execution_count": null,
   "id": "35182be7-6900-446c-8542-308e9848f766",
   "metadata": {
    "pycharm": {
     "name": "#%%\n"
    }
   },
   "outputs": [],
   "source": [
    "acids = Chem.MolFromSmarts(\"[$([C,S](=[O,S,P])-[O;H1,-1])]\")\n",
    "arr_bool = [m.HasSubstructMatch(acids) for m in df[\"ROMol\"]]\n",
    "df = df[arr_bool]"
   ]
  },
  {
   "cell_type": "code",
   "execution_count": null,
   "id": "40926310-5a25-4444-a39e-4e615d5ca30e",
   "metadata": {
    "tags": [],
    "pycharm": {
     "name": "#%%\n"
    }
   },
   "outputs": [],
   "source": [
    "print(len(df))\n",
    "mols2grid.display(df, mol_col='ROMol')"
   ]
  },
  {
   "cell_type": "code",
   "execution_count": null,
   "id": "dc9b6658-f3e7-4342-b529-a4bd416eb5a6",
   "metadata": {
    "pycharm": {
     "name": "#%%\n"
    }
   },
   "outputs": [],
   "source": [
    "properties=None  #list(df.columns)\n",
    "PandasTools.WriteSDF(df, \"ZINC15_fda_acids.sdf\", molColName='ROMol', idName=\"zinc_id\", properties=properties, allNumeric=False)"
   ]
  },
  {
   "cell_type": "code",
   "execution_count": null,
   "id": "20d88a97-2473-469b-9ce4-ceea2d51a54e",
   "metadata": {
    "scrolled": true,
    "tags": [],
    "pycharm": {
     "name": "#%%\n"
    }
   },
   "outputs": [],
   "source": [
    "#Protonate at pH=7.4\n",
    "!obabel -isdf ZINC15_fda_acids.sdf -O ZINC15_fda_Ro5_acids_7.4.sdf -p 7.4 --unique inchi\n",
    "#--filter 'MW<=500 logP<=5 HBD<=5 HBA2<=10 abonds>1 rotors<10 (s=\"[$([C,S](=[O,S,P])-[O;H1,-1])]\"'\n"
   ]
  },
  {
   "cell_type": "code",
   "execution_count": null,
   "id": "67ce60b8-3287-439e-b172-a55c47166c7d",
   "metadata": {
    "pycharm": {
     "name": "#%%\n"
    }
   },
   "outputs": [],
   "source": [
    "df_ph74 = PandasTools.LoadSDF(\"ZINC15_fda_Ro5_acids_7.4.sdf\", embedProps=True, removeHs=False)\n",
    "print(len(df_ph74))\n",
    "mols2grid.display(df_ph74, mol_col=\"ROMol\", removeHs=True,\n",
    "                  subset=[\"mols2grid-id\",\"img\", \"zinc_id\"],)"
   ]
  },
  {
   "cell_type": "code",
   "execution_count": null,
   "id": "402d92cf-0fac-4495-aa0a-aadf46e000ba",
   "metadata": {
    "scrolled": true,
    "tags": [],
    "pycharm": {
     "name": "#%%\n"
    }
   },
   "outputs": [],
   "source": [
    "#Convert ligands to PDBQT using meeko\n",
    "!mk_prepare_ligand.py -i ZINC15_fda_Ro5_acids_7.4.sdf --multimol_outdir Ligands"
   ]
  }
 ],
 "metadata": {
  "kernelspec": {
   "display_name": "Python 3 (ipykernel)",
   "language": "python",
   "name": "python3"
  },
  "language_info": {
   "codemirror_mode": {
    "name": "ipython",
    "version": 3
   },
   "file_extension": ".py",
   "mimetype": "text/x-python",
   "name": "python",
   "nbconvert_exporter": "python",
   "pygments_lexer": "ipython3",
   "version": "3.10.6"
  },
  "widgets": {
   "application/vnd.jupyter.widget-state+json": {
    "state": {},
    "version_major": 2,
    "version_minor": 0
   }
  }
 },
 "nbformat": 4,
 "nbformat_minor": 5
}